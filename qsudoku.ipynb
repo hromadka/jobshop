{
 "cells": [
  {
   "cell_type": "code",
   "execution_count": 1,
   "metadata": {},
   "outputs": [
    {
     "data": {
      "text/plain": [
       "'0.23.0'"
      ]
     },
     "execution_count": 1,
     "metadata": {},
     "output_type": "execute_result"
    }
   ],
   "source": [
    "# https://github.com/Qiskit/textbook/blob/main/notebooks/ch-algorithms/grover.ipynb\n",
    "\n",
    "# see also https://quantumcomputing.stackexchange.com/questions/29007/solve-sudoku-using-grovers-algorithm \n",
    "\n",
    "import qiskit_ibm_runtime\n",
    "\n",
    "qiskit_ibm_runtime.version.get_version_info()"
   ]
  },
  {
   "cell_type": "code",
   "execution_count": 3,
   "metadata": {},
   "outputs": [
    {
     "name": "stdout",
     "output_type": "stream",
     "text": [
      "Collecting qiskit_aer\n",
      "  Downloading qiskit_aer-0.15.1-cp39-cp39-win_amd64.whl.metadata (8.2 kB)\n",
      "Requirement already satisfied: qiskit>=1.1.0 in c:\\users\\ted hromadka\\appdata\\local\\packages\\pythonsoftwarefoundation.python.3.9_qbz5n2kfra8p0\\localcache\\local-packages\\python39\\site-packages (from qiskit_aer) (1.1.0)\n",
      "Requirement already satisfied: numpy>=1.16.3 in c:\\users\\ted hromadka\\appdata\\local\\packages\\pythonsoftwarefoundation.python.3.9_qbz5n2kfra8p0\\localcache\\local-packages\\python39\\site-packages (from qiskit_aer) (1.25.2)\n",
      "Requirement already satisfied: scipy>=1.0 in c:\\users\\ted hromadka\\appdata\\local\\packages\\pythonsoftwarefoundation.python.3.9_qbz5n2kfra8p0\\localcache\\local-packages\\python39\\site-packages (from qiskit_aer) (1.9.3)\n",
      "Requirement already satisfied: psutil>=5 in c:\\users\\ted hromadka\\appdata\\local\\packages\\pythonsoftwarefoundation.python.3.9_qbz5n2kfra8p0\\localcache\\local-packages\\python39\\site-packages (from qiskit_aer) (5.9.7)\n",
      "Requirement already satisfied: rustworkx>=0.14.0 in c:\\users\\ted hromadka\\appdata\\local\\packages\\pythonsoftwarefoundation.python.3.9_qbz5n2kfra8p0\\localcache\\local-packages\\python39\\site-packages (from qiskit>=1.1.0->qiskit_aer) (0.14.2)\n",
      "Requirement already satisfied: sympy>=1.3 in c:\\users\\ted hromadka\\appdata\\local\\packages\\pythonsoftwarefoundation.python.3.9_qbz5n2kfra8p0\\localcache\\local-packages\\python39\\site-packages (from qiskit>=1.1.0->qiskit_aer) (1.12.1)\n",
      "Requirement already satisfied: dill>=0.3 in c:\\users\\ted hromadka\\appdata\\local\\packages\\pythonsoftwarefoundation.python.3.9_qbz5n2kfra8p0\\localcache\\local-packages\\python39\\site-packages (from qiskit>=1.1.0->qiskit_aer) (0.3.8)\n",
      "Requirement already satisfied: python-dateutil>=2.8.0 in c:\\users\\ted hromadka\\appdata\\local\\packages\\pythonsoftwarefoundation.python.3.9_qbz5n2kfra8p0\\localcache\\local-packages\\python39\\site-packages (from qiskit>=1.1.0->qiskit_aer) (2.8.2)\n",
      "Requirement already satisfied: stevedore>=3.0.0 in c:\\users\\ted hromadka\\appdata\\local\\packages\\pythonsoftwarefoundation.python.3.9_qbz5n2kfra8p0\\localcache\\local-packages\\python39\\site-packages (from qiskit>=1.1.0->qiskit_aer) (5.2.0)\n",
      "Requirement already satisfied: typing-extensions in c:\\users\\ted hromadka\\appdata\\local\\packages\\pythonsoftwarefoundation.python.3.9_qbz5n2kfra8p0\\localcache\\local-packages\\python39\\site-packages (from qiskit>=1.1.0->qiskit_aer) (4.9.0)\n",
      "Requirement already satisfied: symengine>=0.11 in c:\\users\\ted hromadka\\appdata\\local\\packages\\pythonsoftwarefoundation.python.3.9_qbz5n2kfra8p0\\localcache\\local-packages\\python39\\site-packages (from qiskit>=1.1.0->qiskit_aer) (0.11.0)\n",
      "Requirement already satisfied: six>=1.5 in c:\\users\\ted hromadka\\appdata\\local\\packages\\pythonsoftwarefoundation.python.3.9_qbz5n2kfra8p0\\localcache\\local-packages\\python39\\site-packages (from python-dateutil>=2.8.0->qiskit>=1.1.0->qiskit_aer) (1.16.0)\n",
      "Requirement already satisfied: pbr!=2.1.0,>=2.0.0 in c:\\users\\ted hromadka\\appdata\\local\\packages\\pythonsoftwarefoundation.python.3.9_qbz5n2kfra8p0\\localcache\\local-packages\\python39\\site-packages (from stevedore>=3.0.0->qiskit>=1.1.0->qiskit_aer) (6.0.0)\n",
      "Requirement already satisfied: mpmath<1.4.0,>=1.1.0 in c:\\users\\ted hromadka\\appdata\\local\\packages\\pythonsoftwarefoundation.python.3.9_qbz5n2kfra8p0\\localcache\\local-packages\\python39\\site-packages (from sympy>=1.3->qiskit>=1.1.0->qiskit_aer) (1.3.0)\n",
      "Downloading qiskit_aer-0.15.1-cp39-cp39-win_amd64.whl (9.5 MB)\n",
      "   ---------------------------------------- 0.0/9.5 MB ? eta -:--:--\n",
      "   ---------------------------------------- 0.0/9.5 MB ? eta -:--:--\n",
      "   ---------------------------------------- 0.0/9.5 MB ? eta -:--:--\n",
      "   ---------------------------------------- 0.1/9.5 MB 1.1 MB/s eta 0:00:09\n",
      "    --------------------------------------- 0.2/9.5 MB 1.3 MB/s eta 0:00:08\n",
      "    --------------------------------------- 0.2/9.5 MB 1.0 MB/s eta 0:00:09\n",
      "   - -------------------------------------- 0.3/9.5 MB 1.4 MB/s eta 0:00:07\n",
      "   -- ------------------------------------- 0.5/9.5 MB 1.8 MB/s eta 0:00:05\n",
      "   -- ------------------------------------- 0.7/9.5 MB 2.2 MB/s eta 0:00:04\n",
      "   --- ------------------------------------ 0.8/9.5 MB 2.2 MB/s eta 0:00:05\n",
      "   ---- ----------------------------------- 1.0/9.5 MB 2.3 MB/s eta 0:00:04\n",
      "   ---- ----------------------------------- 1.2/9.5 MB 2.5 MB/s eta 0:00:04\n",
      "   ----- ---------------------------------- 1.3/9.5 MB 2.6 MB/s eta 0:00:04\n",
      "   ----- ---------------------------------- 1.4/9.5 MB 2.6 MB/s eta 0:00:04\n",
      "   ------ --------------------------------- 1.6/9.5 MB 2.8 MB/s eta 0:00:03\n",
      "   ------- -------------------------------- 1.7/9.5 MB 2.7 MB/s eta 0:00:03\n",
      "   -------- ------------------------------- 1.9/9.5 MB 2.8 MB/s eta 0:00:03\n",
      "   -------- ------------------------------- 2.1/9.5 MB 2.9 MB/s eta 0:00:03\n",
      "   --------- ------------------------------ 2.2/9.5 MB 2.8 MB/s eta 0:00:03\n",
      "   --------- ------------------------------ 2.2/9.5 MB 2.8 MB/s eta 0:00:03\n",
      "   --------- ------------------------------ 2.2/9.5 MB 2.8 MB/s eta 0:00:03\n",
      "   --------- ------------------------------ 2.2/9.5 MB 2.8 MB/s eta 0:00:03\n",
      "   --------- ------------------------------ 2.2/9.5 MB 2.8 MB/s eta 0:00:03\n",
      "   ----------- ---------------------------- 2.7/9.5 MB 2.7 MB/s eta 0:00:03\n",
      "   ----------- ---------------------------- 2.7/9.5 MB 2.6 MB/s eta 0:00:03\n",
      "   ----------- ---------------------------- 2.7/9.5 MB 2.5 MB/s eta 0:00:03\n",
      "   ----------- ---------------------------- 2.8/9.5 MB 2.4 MB/s eta 0:00:03\n",
      "   ----------- ---------------------------- 2.8/9.5 MB 2.4 MB/s eta 0:00:03\n",
      "   ------------ --------------------------- 3.0/9.5 MB 2.4 MB/s eta 0:00:03\n",
      "   ------------- -------------------------- 3.1/9.5 MB 2.4 MB/s eta 0:00:03\n",
      "   ------------- -------------------------- 3.2/9.5 MB 2.4 MB/s eta 0:00:03\n",
      "   ------------- -------------------------- 3.2/9.5 MB 2.4 MB/s eta 0:00:03\n",
      "   -------------- ------------------------- 3.4/9.5 MB 2.4 MB/s eta 0:00:03\n",
      "   -------------- ------------------------- 3.5/9.5 MB 2.4 MB/s eta 0:00:03\n",
      "   --------------- ------------------------ 3.7/9.5 MB 2.4 MB/s eta 0:00:03\n",
      "   ---------------- ----------------------- 3.9/9.5 MB 2.5 MB/s eta 0:00:03\n",
      "   ---------------- ----------------------- 3.9/9.5 MB 2.5 MB/s eta 0:00:03\n",
      "   ----------------- ---------------------- 4.1/9.5 MB 2.5 MB/s eta 0:00:03\n",
      "   ----------------- ---------------------- 4.2/9.5 MB 2.5 MB/s eta 0:00:03\n",
      "   ----------------- ---------------------- 4.3/9.5 MB 2.5 MB/s eta 0:00:03\n",
      "   ------------------ --------------------- 4.3/9.5 MB 2.4 MB/s eta 0:00:03\n",
      "   ------------------- -------------------- 4.6/9.5 MB 2.5 MB/s eta 0:00:02\n",
      "   ------------------- -------------------- 4.6/9.5 MB 2.5 MB/s eta 0:00:02\n",
      "   ------------------- -------------------- 4.7/9.5 MB 2.5 MB/s eta 0:00:02\n",
      "   -------------------- ------------------- 4.8/9.5 MB 2.5 MB/s eta 0:00:02\n",
      "   -------------------- ------------------- 4.9/9.5 MB 2.4 MB/s eta 0:00:02\n",
      "   -------------------- ------------------- 5.0/9.5 MB 2.4 MB/s eta 0:00:02\n",
      "   -------------------- ------------------- 5.0/9.5 MB 2.4 MB/s eta 0:00:02\n",
      "   --------------------- ------------------ 5.1/9.5 MB 2.4 MB/s eta 0:00:02\n",
      "   --------------------- ------------------ 5.2/9.5 MB 2.3 MB/s eta 0:00:02\n",
      "   ---------------------- ----------------- 5.2/9.5 MB 2.3 MB/s eta 0:00:02\n",
      "   ---------------------- ----------------- 5.3/9.5 MB 2.3 MB/s eta 0:00:02\n",
      "   ---------------------- ----------------- 5.3/9.5 MB 2.3 MB/s eta 0:00:02\n",
      "   ---------------------- ----------------- 5.4/9.5 MB 2.3 MB/s eta 0:00:02\n",
      "   ----------------------- ---------------- 5.6/9.5 MB 2.3 MB/s eta 0:00:02\n",
      "   ------------------------ --------------- 5.7/9.5 MB 2.3 MB/s eta 0:00:02\n",
      "   ------------------------ --------------- 5.9/9.5 MB 2.3 MB/s eta 0:00:02\n",
      "   ------------------------ --------------- 5.9/9.5 MB 2.3 MB/s eta 0:00:02\n",
      "   ------------------------- -------------- 6.1/9.5 MB 2.3 MB/s eta 0:00:02\n",
      "   -------------------------- ------------- 6.2/9.5 MB 2.3 MB/s eta 0:00:02\n",
      "   --------------------------- ------------ 6.4/9.5 MB 2.4 MB/s eta 0:00:02\n",
      "   --------------------------- ------------ 6.6/9.5 MB 2.4 MB/s eta 0:00:02\n",
      "   ---------------------------- ----------- 6.7/9.5 MB 2.4 MB/s eta 0:00:02\n",
      "   ---------------------------- ----------- 6.7/9.5 MB 2.4 MB/s eta 0:00:02\n",
      "   ---------------------------- ----------- 6.8/9.5 MB 2.3 MB/s eta 0:00:02\n",
      "   ----------------------------- ---------- 6.9/9.5 MB 2.3 MB/s eta 0:00:02\n",
      "   ----------------------------- ---------- 7.0/9.5 MB 2.3 MB/s eta 0:00:02\n",
      "   ----------------------------- ---------- 7.1/9.5 MB 2.4 MB/s eta 0:00:02\n",
      "   ------------------------------ --------- 7.2/9.5 MB 2.3 MB/s eta 0:00:01\n",
      "   ------------------------------ --------- 7.2/9.5 MB 2.3 MB/s eta 0:00:01\n",
      "   ------------------------------- -------- 7.4/9.5 MB 2.3 MB/s eta 0:00:01\n",
      "   ------------------------------- -------- 7.5/9.5 MB 2.3 MB/s eta 0:00:01\n",
      "   ------------------------------- -------- 7.5/9.5 MB 2.3 MB/s eta 0:00:01\n",
      "   -------------------------------- ------- 7.7/9.5 MB 2.3 MB/s eta 0:00:01\n",
      "   -------------------------------- ------- 7.8/9.5 MB 2.3 MB/s eta 0:00:01\n",
      "   --------------------------------- ------ 7.9/9.5 MB 2.3 MB/s eta 0:00:01\n",
      "   --------------------------------- ------ 8.0/9.5 MB 2.3 MB/s eta 0:00:01\n",
      "   ---------------------------------- ----- 8.1/9.5 MB 2.3 MB/s eta 0:00:01\n",
      "   ---------------------------------- ----- 8.2/9.5 MB 2.3 MB/s eta 0:00:01\n",
      "   ----------------------------------- ---- 8.4/9.5 MB 2.3 MB/s eta 0:00:01\n",
      "   ----------------------------------- ---- 8.5/9.5 MB 2.3 MB/s eta 0:00:01\n",
      "   ----------------------------------- ---- 8.5/9.5 MB 2.3 MB/s eta 0:00:01\n",
      "   ------------------------------------ --- 8.6/9.5 MB 2.3 MB/s eta 0:00:01\n",
      "   ------------------------------------ --- 8.7/9.5 MB 2.3 MB/s eta 0:00:01\n",
      "   ------------------------------------ --- 8.7/9.5 MB 2.3 MB/s eta 0:00:01\n",
      "   ------------------------------------- -- 8.8/9.5 MB 2.3 MB/s eta 0:00:01\n",
      "   ------------------------------------- -- 8.9/9.5 MB 2.3 MB/s eta 0:00:01\n",
      "   -------------------------------------- - 9.1/9.5 MB 2.3 MB/s eta 0:00:01\n",
      "   -------------------------------------- - 9.2/9.5 MB 2.3 MB/s eta 0:00:01\n",
      "   -------------------------------------- - 9.2/9.5 MB 2.3 MB/s eta 0:00:01\n",
      "   ---------------------------------------  9.4/9.5 MB 2.3 MB/s eta 0:00:01\n",
      "   ---------------------------------------  9.5/9.5 MB 2.3 MB/s eta 0:00:01\n",
      "   ---------------------------------------  9.5/9.5 MB 2.3 MB/s eta 0:00:01\n",
      "   ---------------------------------------- 9.5/9.5 MB 2.2 MB/s eta 0:00:00\n",
      "Installing collected packages: qiskit_aer\n",
      "Successfully installed qiskit_aer-0.15.1\n",
      "Note: you may need to restart the kernel to use updated packages.\n"
     ]
    },
    {
     "name": "stderr",
     "output_type": "stream",
     "text": [
      "\n",
      "[notice] A new release of pip is available: 24.1.2 -> 24.3.1\n",
      "[notice] To update, run: C:\\Users\\Ted Hromadka\\AppData\\Local\\Microsoft\\WindowsApps\\PythonSoftwareFoundation.Python.3.9_qbz5n2kfra8p0\\python.exe -m pip install --upgrade pip\n"
     ]
    }
   ],
   "source": [
    "%pip install qiskit_aer"
   ]
  },
  {
   "cell_type": "code",
   "execution_count": 4,
   "metadata": {},
   "outputs": [
    {
     "data": {
      "text/plain": [
       "'1.1.0'"
      ]
     },
     "execution_count": 4,
     "metadata": {},
     "output_type": "execute_result"
    }
   ],
   "source": [
    "import numpy as np\n",
    "\n",
    "import qiskit\n",
    "#from qiskit import IBMQ, Aer, transpile, execute\n",
    "from qiskit import transpile\n",
    "from qiskit import QuantumCircuit, ClassicalRegister, QuantumRegister\n",
    "#from qiskit.providers.ibmq import least_busy\n",
    "from qiskit.circuit.library.standard_gates import XGate, ZGate\n",
    "#from qiskit.circuit.library import MCMT\n",
    "#from qiskit.circuit.library.generalized_gates import MCMTGate\n",
    "\n",
    "from qiskit_aer import AerSimulator\n",
    "\n",
    "\n",
    "# import basic plot tools\n",
    "from qiskit.visualization import plot_histogram\n",
    "\n",
    "\n",
    "qiskit.version.get_version_info()"
   ]
  },
  {
   "cell_type": "code",
   "execution_count": 5,
   "metadata": {},
   "outputs": [],
   "source": [
    "#from qiskit_textbook.problems import grover_problem_oracle\n",
    "### Example Usage\n",
    "#n = 4\n",
    "#oracle = grover_problem_oracle(n, variant=1)  # 0th variant of oracle, with n qubits\n",
    "#qc = QuantumCircuit(n)\n",
    "#qc.append(oracle, [0,1,2,3])\n",
    "#qc.draw()"
   ]
  },
  {
   "cell_type": "code",
   "execution_count": 6,
   "metadata": {},
   "outputs": [],
   "source": [
    "clause_list = [[0,1],\n",
    "               [0,2],\n",
    "               [1,3],\n",
    "               [2,3]]"
   ]
  },
  {
   "cell_type": "code",
   "execution_count": 7,
   "metadata": {},
   "outputs": [],
   "source": [
    "def XOR(qc, a, b, output):\n",
    "    qc.cx(a, output)\n",
    "    qc.cx(b, output)"
   ]
  },
  {
   "cell_type": "code",
   "execution_count": 8,
   "metadata": {},
   "outputs": [],
   "source": [
    "def diffuser(nqubits):\n",
    "    qcirc = QuantumCircuit(nqubits)\n",
    "    # Apply transformation |s> -> |00..0> (H-gates)\n",
    "    for qubit in range(nqubits):\n",
    "        qcirc.h(qubit)\n",
    "    # Apply transformation |00..0> -> |11..1> (X-gates)\n",
    "    for qubit in range(nqubits):\n",
    "        qcirc.x(qubit)\n",
    "    # Do multi-controlled-Z gate\n",
    "    qcirc.h(nqubits-1)\n",
    "    #qc.mct(list(range(nqubits-1)), nqubits-1)  # multi-controlled-toffoli\n",
    "    c3z = ZGate().control(num_ctrl_qubits=3, ctrl_state='111')\n",
    "    qcirc.append(c3z, [0,1,2,3])\n",
    "    # this will support the call: qc.append(diffuser(4), [0,1,2,3])\n",
    "\n",
    "\n",
    "    qcirc.h(nqubits-1)\n",
    "    # Apply transformation |11..1> -> |00..0>\n",
    "    for qubit in range(nqubits):\n",
    "        qcirc.x(qubit)\n",
    "    # Apply transformation |00..0> -> |s>\n",
    "    for qubit in range(nqubits):\n",
    "        qcirc.h(qubit)\n",
    "    # We will return the diffuser as a gate\n",
    "    U_s = qcirc.to_gate()\n",
    "    U_s.name = \"U$_s$\"\n",
    "    return U_s"
   ]
  },
  {
   "cell_type": "code",
   "execution_count": 9,
   "metadata": {},
   "outputs": [
    {
     "data": {
      "text/html": [
       "<pre style=\"word-wrap: normal;white-space: pre;background: #fff0;line-height: 1.1;font-family: &quot;Courier New&quot;,Courier,monospace\">                   \n",
       "input_0: ──■───────\n",
       "           │       \n",
       "input_1: ──┼────■──\n",
       "         ┌─┴─┐┌─┴─┐\n",
       " output: ┤ X ├┤ X ├\n",
       "         └───┘└───┘</pre>"
      ],
      "text/plain": [
       "                   \n",
       "input_0: ──■───────\n",
       "           │       \n",
       "input_1: ──┼────■──\n",
       "         ┌─┴─┐┌─┴─┐\n",
       " output: ┤ X ├┤ X ├\n",
       "         └───┘└───┘"
      ]
     },
     "execution_count": 9,
     "metadata": {},
     "output_type": "execute_result"
    }
   ],
   "source": [
    "# We will use separate registers to name the bits\n",
    "in_qubits = QuantumRegister(2, name='input')\n",
    "out_qubit = QuantumRegister(1, name='output')\n",
    "qc = QuantumCircuit(in_qubits, out_qubit)\n",
    "XOR(qc, in_qubits[0], in_qubits[1], out_qubit)\n",
    "qc.draw()"
   ]
  },
  {
   "cell_type": "code",
   "execution_count": 10,
   "metadata": {},
   "outputs": [
    {
     "data": {
      "text/html": [
       "<pre style=\"word-wrap: normal;white-space: pre;background: #fff0;line-height: 1.1;font-family: &quot;Courier New&quot;,Courier,monospace\">                                             \n",
       "v_0: ──■─────────■───────────────────────────\n",
       "       │         │                           \n",
       "v_1: ──┼────■────┼─────────■─────────────────\n",
       "       │    │    │         │                 \n",
       "v_2: ──┼────┼────┼────■────┼─────────■───────\n",
       "       │    │    │    │    │         │       \n",
       "v_3: ──┼────┼────┼────┼────┼────■────┼────■──\n",
       "     ┌─┴─┐┌─┴─┐  │    │    │    │    │    │  \n",
       "c_0: ┤ X ├┤ X ├──┼────┼────┼────┼────┼────┼──\n",
       "     └───┘└───┘┌─┴─┐┌─┴─┐  │    │    │    │  \n",
       "c_1: ──────────┤ X ├┤ X ├──┼────┼────┼────┼──\n",
       "               └───┘└───┘┌─┴─┐┌─┴─┐  │    │  \n",
       "c_2: ────────────────────┤ X ├┤ X ├──┼────┼──\n",
       "                         └───┘└───┘┌─┴─┐┌─┴─┐\n",
       "c_3: ──────────────────────────────┤ X ├┤ X ├\n",
       "                                   └───┘└───┘</pre>"
      ],
      "text/plain": [
       "                                             \n",
       "v_0: ──■─────────■───────────────────────────\n",
       "       │         │                           \n",
       "v_1: ──┼────■────┼─────────■─────────────────\n",
       "       │    │    │         │                 \n",
       "v_2: ──┼────┼────┼────■────┼─────────■───────\n",
       "       │    │    │    │    │         │       \n",
       "v_3: ──┼────┼────┼────┼────┼────■────┼────■──\n",
       "     ┌─┴─┐┌─┴─┐  │    │    │    │    │    │  \n",
       "c_0: ┤ X ├┤ X ├──┼────┼────┼────┼────┼────┼──\n",
       "     └───┘└───┘┌─┴─┐┌─┴─┐  │    │    │    │  \n",
       "c_1: ──────────┤ X ├┤ X ├──┼────┼────┼────┼──\n",
       "               └───┘└───┘┌─┴─┐┌─┴─┐  │    │  \n",
       "c_2: ────────────────────┤ X ├┤ X ├──┼────┼──\n",
       "                         └───┘└───┘┌─┴─┐┌─┴─┐\n",
       "c_3: ──────────────────────────────┤ X ├┤ X ├\n",
       "                                   └───┘└───┘"
      ]
     },
     "execution_count": 10,
     "metadata": {},
     "output_type": "execute_result"
    }
   ],
   "source": [
    "# Create separate registers to name bits\n",
    "var_qubits = QuantumRegister(4, name='v')  # variable bits\n",
    "clause_qubits = QuantumRegister(4, name='c')  # bits to store clause-checks\n",
    "\n",
    "# Create quantum circuit\n",
    "qc = QuantumCircuit(var_qubits, clause_qubits)\n",
    "\n",
    "# Use XOR gate to check each clause\n",
    "i = 0\n",
    "for clause in clause_list:\n",
    "    XOR(qc, clause[0], clause[1], clause_qubits[i])\n",
    "    i += 1\n",
    "\n",
    "qc.draw()"
   ]
  },
  {
   "cell_type": "code",
   "execution_count": 11,
   "metadata": {},
   "outputs": [
    {
     "data": {
      "text/html": [
       "<pre style=\"word-wrap: normal;white-space: pre;background: #fff0;line-height: 1.1;font-family: &quot;Courier New&quot;,Courier,monospace\">                                                \n",
       "v_0: ──■─────────■──────────────────────────────\n",
       "       │         │                              \n",
       "v_1: ──┼────■────┼─────────■────────────────────\n",
       "       │    │    │         │                    \n",
       "v_2: ──┼────┼────┼────■────┼─────────■──────────\n",
       "       │    │    │    │    │         │          \n",
       "v_3: ──┼────┼────┼────┼────┼────■────┼────■─────\n",
       "     ┌─┴─┐┌─┴─┐  │    │    │    │    │    │     \n",
       "c_0: ┤ X ├┤ X ├──┼────┼────┼────┼────┼────┼───■─\n",
       "     └───┘└───┘┌─┴─┐┌─┴─┐  │    │    │    │   │ \n",
       "c_1: ──────────┤ X ├┤ X ├──┼────┼────┼────┼───■─\n",
       "               └───┘└───┘┌─┴─┐┌─┴─┐  │    │   │ \n",
       "c_2: ────────────────────┤ X ├┤ X ├──┼────┼───■─\n",
       "                         └───┘└───┘┌─┴─┐┌─┴─┐ │ \n",
       "c_3: ──────────────────────────────┤ X ├┤ X ├─■─\n",
       "                                   └───┘└───┘ │ \n",
       "out: ─────────────────────────────────────────■─\n",
       "                                                </pre>"
      ],
      "text/plain": [
       "                                                \n",
       "v_0: ──■─────────■──────────────────────────────\n",
       "       │         │                              \n",
       "v_1: ──┼────■────┼─────────■────────────────────\n",
       "       │    │    │         │                    \n",
       "v_2: ──┼────┼────┼────■────┼─────────■──────────\n",
       "       │    │    │    │    │         │          \n",
       "v_3: ──┼────┼────┼────┼────┼────■────┼────■─────\n",
       "     ┌─┴─┐┌─┴─┐  │    │    │    │    │    │     \n",
       "c_0: ┤ X ├┤ X ├──┼────┼────┼────┼────┼────┼───■─\n",
       "     └───┘└───┘┌─┴─┐┌─┴─┐  │    │    │    │   │ \n",
       "c_1: ──────────┤ X ├┤ X ├──┼────┼────┼────┼───■─\n",
       "               └───┘└───┘┌─┴─┐┌─┴─┐  │    │   │ \n",
       "c_2: ────────────────────┤ X ├┤ X ├──┼────┼───■─\n",
       "                         └───┘└───┘┌─┴─┐┌─┴─┐ │ \n",
       "c_3: ──────────────────────────────┤ X ├┤ X ├─■─\n",
       "                                   └───┘└───┘ │ \n",
       "out: ─────────────────────────────────────────■─\n",
       "                                                "
      ]
     },
     "execution_count": 11,
     "metadata": {},
     "output_type": "execute_result"
    }
   ],
   "source": [
    "# Create separate registers to name bits\n",
    "var_qubits = QuantumRegister(4, name='v')\n",
    "clause_qubits = QuantumRegister(4, name='c')\n",
    "output_qubit = QuantumRegister(1, name='out')\n",
    "qc = QuantumCircuit(var_qubits, clause_qubits, output_qubit)\n",
    "\n",
    "# Compute clauses\n",
    "i = 0\n",
    "for clause in clause_list:\n",
    "    XOR(qc, clause[0], clause[1], clause_qubits[i])\n",
    "    i += 1\n",
    "\n",
    "# Flip 'output' bit if all clauses are satisfied\n",
    "# MCT = multi-controlled Toffoli gate\n",
    "#qc.mct(clause_qubits, output_qubit)\n",
    "#qc.MCMTGate(XGate(), len(clause_qubits), len(output_qubit))\n",
    "c3z = ZGate().control(num_ctrl_qubits=4, ctrl_state='1111')\n",
    "qc.append(c3z, [4,5,6,7,8])\n",
    "\n",
    "qc.draw()"
   ]
  },
  {
   "cell_type": "code",
   "execution_count": 12,
   "metadata": {},
   "outputs": [
    {
     "data": {
      "text/html": [
       "<pre style=\"word-wrap: normal;white-space: pre;background: #fff0;line-height: 1.1;font-family: &quot;Courier New&quot;,Courier,monospace\">                                                                             »\n",
       "    v_0: ──■─────────■────────────────────────────────■─────────■────────────»\n",
       "           │         │                                │         │            »\n",
       "    v_1: ──┼────■────┼─────────■──────────────────────┼────■────┼─────────■──»\n",
       "           │    │    │         │                      │    │    │         │  »\n",
       "    v_2: ──┼────┼────┼────■────┼─────────■────────────┼────┼────┼────■────┼──»\n",
       "           │    │    │    │    │         │            │    │    │    │    │  »\n",
       "    v_3: ──┼────┼────┼────┼────┼────■────┼────■───────┼────┼────┼────┼────┼──»\n",
       "         ┌─┴─┐┌─┴─┐  │    │    │    │    │    │     ┌─┴─┐┌─┴─┐  │    │    │  »\n",
       "    c_0: ┤ X ├┤ X ├──┼────┼────┼────┼────┼────┼───■─┤ X ├┤ X ├──┼────┼────┼──»\n",
       "         └───┘└───┘┌─┴─┐┌─┴─┐  │    │    │    │   │ └───┘└───┘┌─┴─┐┌─┴─┐  │  »\n",
       "    c_1: ──────────┤ X ├┤ X ├──┼────┼────┼────┼───■───────────┤ X ├┤ X ├──┼──»\n",
       "                   └───┘└───┘┌─┴─┐┌─┴─┐  │    │   │           └───┘└───┘┌─┴─┐»\n",
       "    c_2: ────────────────────┤ X ├┤ X ├──┼────┼───■─────────────────────┤ X ├»\n",
       "                             └───┘└───┘┌─┴─┐┌─┴─┐ │                     └───┘»\n",
       "    c_3: ──────────────────────────────┤ X ├┤ X ├─■──────────────────────────»\n",
       "                                       └───┘└───┘ │                          »\n",
       "    out: ─────────────────────────────────────────■──────────────────────────»\n",
       "                                                                             »\n",
       "cbits: 4/════════════════════════════════════════════════════════════════════»\n",
       "                                                                             »\n",
       "«                        \n",
       "«    v_0: ───────────────\n",
       "«                        \n",
       "«    v_1: ───────────────\n",
       "«                        \n",
       "«    v_2: ───────■───────\n",
       "«                │       \n",
       "«    v_3: ──■────┼────■──\n",
       "«           │    │    │  \n",
       "«    c_0: ──┼────┼────┼──\n",
       "«           │    │    │  \n",
       "«    c_1: ──┼────┼────┼──\n",
       "«         ┌─┴─┐  │    │  \n",
       "«    c_2: ┤ X ├──┼────┼──\n",
       "«         └───┘┌─┴─┐┌─┴─┐\n",
       "«    c_3: ─────┤ X ├┤ X ├\n",
       "«              └───┘└───┘\n",
       "«    out: ───────────────\n",
       "«                        \n",
       "«cbits: 4/═══════════════\n",
       "«                        </pre>"
      ],
      "text/plain": [
       "                                                                             »\n",
       "    v_0: ──■─────────■────────────────────────────────■─────────■────────────»\n",
       "           │         │                                │         │            »\n",
       "    v_1: ──┼────■────┼─────────■──────────────────────┼────■────┼─────────■──»\n",
       "           │    │    │         │                      │    │    │         │  »\n",
       "    v_2: ──┼────┼────┼────■────┼─────────■────────────┼────┼────┼────■────┼──»\n",
       "           │    │    │    │    │         │            │    │    │    │    │  »\n",
       "    v_3: ──┼────┼────┼────┼────┼────■────┼────■───────┼────┼────┼────┼────┼──»\n",
       "         ┌─┴─┐┌─┴─┐  │    │    │    │    │    │     ┌─┴─┐┌─┴─┐  │    │    │  »\n",
       "    c_0: ┤ X ├┤ X ├──┼────┼────┼────┼────┼────┼───■─┤ X ├┤ X ├──┼────┼────┼──»\n",
       "         └───┘└───┘┌─┴─┐┌─┴─┐  │    │    │    │   │ └───┘└───┘┌─┴─┐┌─┴─┐  │  »\n",
       "    c_1: ──────────┤ X ├┤ X ├──┼────┼────┼────┼───■───────────┤ X ├┤ X ├──┼──»\n",
       "                   └───┘└───┘┌─┴─┐┌─┴─┐  │    │   │           └───┘└───┘┌─┴─┐»\n",
       "    c_2: ────────────────────┤ X ├┤ X ├──┼────┼───■─────────────────────┤ X ├»\n",
       "                             └───┘└───┘┌─┴─┐┌─┴─┐ │                     └───┘»\n",
       "    c_3: ──────────────────────────────┤ X ├┤ X ├─■──────────────────────────»\n",
       "                                       └───┘└───┘ │                          »\n",
       "    out: ─────────────────────────────────────────■──────────────────────────»\n",
       "                                                                             »\n",
       "cbits: 4/════════════════════════════════════════════════════════════════════»\n",
       "                                                                             »\n",
       "«                        \n",
       "«    v_0: ───────────────\n",
       "«                        \n",
       "«    v_1: ───────────────\n",
       "«                        \n",
       "«    v_2: ───────■───────\n",
       "«                │       \n",
       "«    v_3: ──■────┼────■──\n",
       "«           │    │    │  \n",
       "«    c_0: ──┼────┼────┼──\n",
       "«           │    │    │  \n",
       "«    c_1: ──┼────┼────┼──\n",
       "«         ┌─┴─┐  │    │  \n",
       "«    c_2: ┤ X ├──┼────┼──\n",
       "«         └───┘┌─┴─┐┌─┴─┐\n",
       "«    c_3: ─────┤ X ├┤ X ├\n",
       "«              └───┘└───┘\n",
       "«    out: ───────────────\n",
       "«                        \n",
       "«cbits: 4/═══════════════\n",
       "«                        "
      ]
     },
     "execution_count": 12,
     "metadata": {},
     "output_type": "execute_result"
    }
   ],
   "source": [
    "var_qubits = QuantumRegister(4, name='v')\n",
    "clause_qubits = QuantumRegister(4, name='c')\n",
    "output_qubit = QuantumRegister(1, name='out')\n",
    "cbits = ClassicalRegister(4, name='cbits')\n",
    "qc = QuantumCircuit(var_qubits, clause_qubits, output_qubit, cbits)\n",
    "\n",
    "def sudoku_oracle(qc, clause_list, clause_qubits):\n",
    "    # Compute clauses\n",
    "    i = 0\n",
    "    for clause in clause_list:\n",
    "        XOR(qc, clause[0], clause[1], clause_qubits[i])\n",
    "        i += 1\n",
    "\n",
    "    # Flip 'output' bit if all clauses are satisfied\n",
    "   #qc.mct(clause_qubits, output_qubit)\n",
    "    c3z = ZGate().control(num_ctrl_qubits=4, ctrl_state='1111')\n",
    "    qc.append(c3z, [4,5,6,7,8])\n",
    "\n",
    "\n",
    "    # Uncompute clauses to reset clause-checking bits to 0\n",
    "    i = 0\n",
    "    for clause in clause_list:\n",
    "        XOR(qc, clause[0], clause[1], clause_qubits[i])\n",
    "        i += 1\n",
    "\n",
    "sudoku_oracle(qc, clause_list, clause_qubits)\n",
    "qc.draw()\n"
   ]
  },
  {
   "cell_type": "code",
   "execution_count": 13,
   "metadata": {
    "scrolled": true
   },
   "outputs": [
    {
     "data": {
      "text/html": [
       "<pre style=\"word-wrap: normal;white-space: pre;background: #fff0;line-height: 1.1;font-family: &quot;Courier New&quot;,Courier,monospace\">                      ┌───┐               ░                                                                                     ░ ┌────────┐                                                                                    ░ ┌────────┐┌─┐         \n",
       "    v_0: ─────────────┤ H ├───────────────░───■─────────■────────────────────────────────■─────────■────────────────────────────░─┤0       ├──■─────────■────────────────────────────────■─────────■────────────────────────────░─┤0       ├┤M├─────────\n",
       "                      ├───┤               ░   │         │                                │         │                            ░ │        │  │         │                                │         │                            ░ │        │└╥┘┌─┐      \n",
       "    v_1: ─────────────┤ H ├───────────────░───┼────■────┼─────────■──────────────────────┼────■────┼─────────■──────────────────░─┤1       ├──┼────■────┼─────────■──────────────────────┼────■────┼─────────■──────────────────░─┤1       ├─╫─┤M├──────\n",
       "                      ├───┤               ░   │    │    │         │                      │    │    │         │                  ░ │  U$_s$ │  │    │    │         │                      │    │    │         │                  ░ │  U$_s$ │ ║ └╥┘┌─┐   \n",
       "    v_2: ─────────────┤ H ├───────────────░───┼────┼────┼────■────┼─────────■────────────┼────┼────┼────■────┼─────────■────────░─┤2       ├──┼────┼────┼────■────┼─────────■────────────┼────┼────┼────■────┼─────────■────────░─┤2       ├─╫──╫─┤M├───\n",
       "                      ├───┤               ░   │    │    │    │    │         │            │    │    │    │    │         │        ░ │        │  │    │    │    │    │         │            │    │    │    │    │         │        ░ │        │ ║  ║ └╥┘┌─┐\n",
       "    v_3: ─────────────┤ H ├───────────────░───┼────┼────┼────┼────┼────■────┼────■───────┼────┼────┼────┼────┼────■────┼────■───░─┤3       ├──┼────┼────┼────┼────┼────■────┼────■───────┼────┼────┼────┼────┼────■────┼────■───░─┤3       ├─╫──╫──╫─┤M├\n",
       "                      └───┘               ░ ┌─┴─┐┌─┴─┐  │    │    │    │    │    │     ┌─┴─┐┌─┴─┐  │    │    │    │    │    │   ░ └────────┘┌─┴─┐┌─┴─┐  │    │    │    │    │    │     ┌─┴─┐┌─┴─┐  │    │    │    │    │    │   ░ └────────┘ ║  ║  ║ └╥┘\n",
       "    c_0: ─────────────────────────────────░─┤ X ├┤ X ├──┼────┼────┼────┼────┼────┼───■─┤ X ├┤ X ├──┼────┼────┼────┼────┼────┼───░───────────┤ X ├┤ X ├──┼────┼────┼────┼────┼────┼───■─┤ X ├┤ X ├──┼────┼────┼────┼────┼────┼───░────────────╫──╫──╫──╫─\n",
       "                                          ░ └───┘└───┘┌─┴─┐┌─┴─┐  │    │    │    │   │ └───┘└───┘┌─┴─┐┌─┴─┐  │    │    │    │   ░           └───┘└───┘┌─┴─┐┌─┴─┐  │    │    │    │   │ └───┘└───┘┌─┴─┐┌─┴─┐  │    │    │    │   ░            ║  ║  ║  ║ \n",
       "    c_1: ─────────────────────────────────░───────────┤ X ├┤ X ├──┼────┼────┼────┼───■───────────┤ X ├┤ X ├──┼────┼────┼────┼───░─────────────────────┤ X ├┤ X ├──┼────┼────┼────┼───■───────────┤ X ├┤ X ├──┼────┼────┼────┼───░────────────╫──╫──╫──╫─\n",
       "                                          ░           └───┘└───┘┌─┴─┐┌─┴─┐  │    │   │           └───┘└───┘┌─┴─┐┌─┴─┐  │    │   ░                     └───┘└───┘┌─┴─┐┌─┴─┐  │    │   │           └───┘└───┘┌─┴─┐┌─┴─┐  │    │   ░            ║  ║  ║  ║ \n",
       "    c_2: ─────────────────────────────────░─────────────────────┤ X ├┤ X ├──┼────┼───■─────────────────────┤ X ├┤ X ├──┼────┼───░───────────────────────────────┤ X ├┤ X ├──┼────┼───■─────────────────────┤ X ├┤ X ├──┼────┼───░────────────╫──╫──╫──╫─\n",
       "                                          ░                     └───┘└───┘┌─┴─┐┌─┴─┐ │                     └───┘└───┘┌─┴─┐┌─┴─┐ ░                               └───┘└───┘┌─┴─┐┌─┴─┐ │                     └───┘└───┘┌─┴─┐┌─┴─┐ ░            ║  ║  ║  ║ \n",
       "    c_3: ─────────────────────────────────░───────────────────────────────┤ X ├┤ X ├─■───────────────────────────────┤ X ├┤ X ├─░─────────────────────────────────────────┤ X ├┤ X ├─■───────────────────────────────┤ X ├┤ X ├─░────────────╫──╫──╫──╫─\n",
       "         ┌──────────────────────────────┐ ░                               └───┘└───┘ │                               └───┘└───┘ ░                                         └───┘└───┘ │                               └───┘└───┘ ░            ║  ║  ║  ║ \n",
       "    out: ┤ Initialize(0.70711,-0.70711) ├─░──────────────────────────────────────────■──────────────────────────────────────────░────────────────────────────────────────────────────■──────────────────────────────────────────░────────────╫──╫──╫──╫─\n",
       "         └──────────────────────────────┘ ░                                                                                     ░                                                                                               ░            ║  ║  ║  ║ \n",
       "cbits: 4/════════════════════════════════════════════════════════════════════════════════════════════════════════════════════════════════════════════════════════════════════════════════════════════════════════════════════════════════════╩══╩══╩══╩═\n",
       "                                                                                                                                                                                                                                             0  1  2  3 </pre>"
      ],
      "text/plain": [
       "                      ┌───┐               ░                                                                                     ░ ┌────────┐                                                                                    ░ ┌────────┐┌─┐         \n",
       "    v_0: ─────────────┤ H ├───────────────░───■─────────■────────────────────────────────■─────────■────────────────────────────░─┤0       ├──■─────────■────────────────────────────────■─────────■────────────────────────────░─┤0       ├┤M├─────────\n",
       "                      ├───┤               ░   │         │                                │         │                            ░ │        │  │         │                                │         │                            ░ │        │└╥┘┌─┐      \n",
       "    v_1: ─────────────┤ H ├───────────────░───┼────■────┼─────────■──────────────────────┼────■────┼─────────■──────────────────░─┤1       ├──┼────■────┼─────────■──────────────────────┼────■────┼─────────■──────────────────░─┤1       ├─╫─┤M├──────\n",
       "                      ├───┤               ░   │    │    │         │                      │    │    │         │                  ░ │  U$_s$ │  │    │    │         │                      │    │    │         │                  ░ │  U$_s$ │ ║ └╥┘┌─┐   \n",
       "    v_2: ─────────────┤ H ├───────────────░───┼────┼────┼────■────┼─────────■────────────┼────┼────┼────■────┼─────────■────────░─┤2       ├──┼────┼────┼────■────┼─────────■────────────┼────┼────┼────■────┼─────────■────────░─┤2       ├─╫──╫─┤M├───\n",
       "                      ├───┤               ░   │    │    │    │    │         │            │    │    │    │    │         │        ░ │        │  │    │    │    │    │         │            │    │    │    │    │         │        ░ │        │ ║  ║ └╥┘┌─┐\n",
       "    v_3: ─────────────┤ H ├───────────────░───┼────┼────┼────┼────┼────■────┼────■───────┼────┼────┼────┼────┼────■────┼────■───░─┤3       ├──┼────┼────┼────┼────┼────■────┼────■───────┼────┼────┼────┼────┼────■────┼────■───░─┤3       ├─╫──╫──╫─┤M├\n",
       "                      └───┘               ░ ┌─┴─┐┌─┴─┐  │    │    │    │    │    │     ┌─┴─┐┌─┴─┐  │    │    │    │    │    │   ░ └────────┘┌─┴─┐┌─┴─┐  │    │    │    │    │    │     ┌─┴─┐┌─┴─┐  │    │    │    │    │    │   ░ └────────┘ ║  ║  ║ └╥┘\n",
       "    c_0: ─────────────────────────────────░─┤ X ├┤ X ├──┼────┼────┼────┼────┼────┼───■─┤ X ├┤ X ├──┼────┼────┼────┼────┼────┼───░───────────┤ X ├┤ X ├──┼────┼────┼────┼────┼────┼───■─┤ X ├┤ X ├──┼────┼────┼────┼────┼────┼───░────────────╫──╫──╫──╫─\n",
       "                                          ░ └───┘└───┘┌─┴─┐┌─┴─┐  │    │    │    │   │ └───┘└───┘┌─┴─┐┌─┴─┐  │    │    │    │   ░           └───┘└───┘┌─┴─┐┌─┴─┐  │    │    │    │   │ └───┘└───┘┌─┴─┐┌─┴─┐  │    │    │    │   ░            ║  ║  ║  ║ \n",
       "    c_1: ─────────────────────────────────░───────────┤ X ├┤ X ├──┼────┼────┼────┼───■───────────┤ X ├┤ X ├──┼────┼────┼────┼───░─────────────────────┤ X ├┤ X ├──┼────┼────┼────┼───■───────────┤ X ├┤ X ├──┼────┼────┼────┼───░────────────╫──╫──╫──╫─\n",
       "                                          ░           └───┘└───┘┌─┴─┐┌─┴─┐  │    │   │           └───┘└───┘┌─┴─┐┌─┴─┐  │    │   ░                     └───┘└───┘┌─┴─┐┌─┴─┐  │    │   │           └───┘└───┘┌─┴─┐┌─┴─┐  │    │   ░            ║  ║  ║  ║ \n",
       "    c_2: ─────────────────────────────────░─────────────────────┤ X ├┤ X ├──┼────┼───■─────────────────────┤ X ├┤ X ├──┼────┼───░───────────────────────────────┤ X ├┤ X ├──┼────┼───■─────────────────────┤ X ├┤ X ├──┼────┼───░────────────╫──╫──╫──╫─\n",
       "                                          ░                     └───┘└───┘┌─┴─┐┌─┴─┐ │                     └───┘└───┘┌─┴─┐┌─┴─┐ ░                               └───┘└───┘┌─┴─┐┌─┴─┐ │                     └───┘└───┘┌─┴─┐┌─┴─┐ ░            ║  ║  ║  ║ \n",
       "    c_3: ─────────────────────────────────░───────────────────────────────┤ X ├┤ X ├─■───────────────────────────────┤ X ├┤ X ├─░─────────────────────────────────────────┤ X ├┤ X ├─■───────────────────────────────┤ X ├┤ X ├─░────────────╫──╫──╫──╫─\n",
       "         ┌──────────────────────────────┐ ░                               └───┘└───┘ │                               └───┘└───┘ ░                                         └───┘└───┘ │                               └───┘└───┘ ░            ║  ║  ║  ║ \n",
       "    out: ┤ Initialize(0.70711,-0.70711) ├─░──────────────────────────────────────────■──────────────────────────────────────────░────────────────────────────────────────────────────■──────────────────────────────────────────░────────────╫──╫──╫──╫─\n",
       "         └──────────────────────────────┘ ░                                                                                     ░                                                                                               ░            ║  ║  ║  ║ \n",
       "cbits: 4/════════════════════════════════════════════════════════════════════════════════════════════════════════════════════════════════════════════════════════════════════════════════════════════════════════════════════════════════════╩══╩══╩══╩═\n",
       "                                                                                                                                                                                                                                             0  1  2  3 "
      ]
     },
     "execution_count": 13,
     "metadata": {},
     "output_type": "execute_result"
    }
   ],
   "source": [
    "# full algorithm\n",
    "\n",
    "var_qubits = QuantumRegister(4, name='v')\n",
    "clause_qubits = QuantumRegister(4, name='c')\n",
    "output_qubit = QuantumRegister(1, name='out')\n",
    "cbits = ClassicalRegister(4, name='cbits')\n",
    "qc = QuantumCircuit(var_qubits, clause_qubits, output_qubit, cbits)\n",
    "\n",
    "# Initialize 'out0' in state |->\n",
    "qc.initialize([1, -1]/np.sqrt(2), output_qubit)\n",
    "\n",
    "# Initialize qubits in state |s>\n",
    "qc.h(var_qubits)\n",
    "qc.barrier()  # for visual separation\n",
    "\n",
    "## First Iteration\n",
    "# Apply our oracle\n",
    "sudoku_oracle(qc, clause_list, clause_qubits)\n",
    "qc.barrier()  # for visual separation\n",
    "# Apply our diffuser\n",
    "qc.append(diffuser(4), [0,1,2,3])\n",
    "\n",
    "## Second Iteration\n",
    "sudoku_oracle(qc, clause_list, clause_qubits)\n",
    "qc.barrier()  # for visual separation\n",
    "# Apply our diffuser\n",
    "qc.append(diffuser(4), [0,1,2,3])\n",
    "\n",
    "# Measure the variable qubits\n",
    "qc.measure(var_qubits, cbits)\n",
    "\n",
    "qc.draw(fold=-1)"
   ]
  },
  {
   "cell_type": "code",
   "execution_count": 14,
   "metadata": {},
   "outputs": [
    {
     "data": {
      "image/png": "[encoded data removed]",
      "text/plain": [
       "<Figure size 640x480 with 1 Axes>"
      ]
     },
     "execution_count": 14,
     "metadata": {},
     "output_type": "execute_result"
    }
   ],
   "source": [
    "# Simulate and plot results\n",
    "simulator = AerSimulator() #qasm_simulator = Aer.get_backend('qasm_simulator')\n",
    "transpiled_qc =  transpile(qc, simulator) #transpiled_qc = transpile(qc, qasm_simulator)\n",
    "result = simulator.run(transpiled_qc).result() #result = qasm_simulator.run(transpiled_qc).result()\n",
    "plot_histogram(result.get_counts())"
   ]
  },
  {
   "cell_type": "code",
   "execution_count": null,
   "metadata": {},
   "outputs": [],
   "source": []
  },
  {
   "cell_type": "code",
   "execution_count": null,
   "metadata": {},
   "outputs": [],
   "source": []
  },
  {
   "cell_type": "code",
   "execution_count": null,
   "metadata": {},
   "outputs": [],
   "source": []
  }
 ],
 "metadata": {
  "kernelspec": {
   "display_name": "Python 3 (ipykernel)",
   "language": "python",
   "name": "python3"
  },
  "language_info": {
   "codemirror_mode": {
    "name": "ipython",
    "version": 3
   },
   "file_extension": ".py",
   "mimetype": "text/x-python",
   "name": "python",
   "nbconvert_exporter": "python",
   "pygments_lexer": "ipython3",
   "version": "3.9.13"
  }
 },
 "nbformat": 4,
 "nbformat_minor": 4
}
